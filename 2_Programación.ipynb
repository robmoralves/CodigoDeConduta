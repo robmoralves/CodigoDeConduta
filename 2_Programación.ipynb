{
  "cells": [
    {
      "cell_type": "markdown",
      "metadata": {
        "id": "view-in-github",
        "colab_type": "text"
      },
      "source": [
        "<a href=\"https://colab.research.google.com/github/robmoralves/CodigoDeConduta/blob/master/2_Programaci%C3%B3n.ipynb\" target=\"_parent\"><img src=\"https://colab.research.google.com/assets/colab-badge.svg\" alt=\"Open In Colab\"/></a>"
      ]
    },
    {
      "cell_type": "markdown",
      "metadata": {
        "id": "zUpAx4mvVgz6"
      },
      "source": [
        "# Clase 1\n",
        "\n",
        "## Introducción a la programación\n",
        "La programación es el proceso que se utiliza para diseñar e implementar un programa de computadora, valiéndose de algún lenguaje que permita comunicar una serie de acciones que se requiere que la computadora realice. ¿Qué es un programa? Es una caja negra que recibe alguna información, la cual es llamada \"input\" (entrada), realiza alguna acción, y devuelve información, la cual es llamada \"output\" (salida).\n",
        "\n",
        "<img src=\"http://softwaretestingfundamentals.com/wp-content/uploads/2010/12/black_box_testing-300x149.gif\" alt = \"Black Box Testing - Input->Programa -> Output\" title= \"Entra x, sale y\">\n",
        "\n",
        "## Lenguajes de programación\n",
        "Un lenguaje de programación es un [lenguaje formal](https://es.wikipedia.org/wiki/Lenguaje_formal) que proporciona una serie de instrucciones, las cuales permiten a un programador escribir secuencias de órdenes para controlar el comportamiento físico y lógico de una computadora, con el objetivo de que produzca diversas acciones deseadas por el programador (¡y los usuarios!).\n",
        "\n",
        "Algunos de los lenguajes mas populares en los últimos tiempos (lejos de ser los únicos) son Python, Java, C++, JavaScript, PHP, etc.\n",
        "\n",
        "<img src=\"https://miro.medium.com/max/838/1*L5QyrMNalM3yhtgdgBcvkQ.png\" height=\"300\" alt = \"Collage de lenguajes de programación populares\" title=\"Hay varios otros lenguajes, como Go, Go!, Gosu etc. \">\n",
        "## ¿Por qué Python?\n",
        "Elegimos Python porque es uno de los lenguajes de programación con reglas más simples e intuitivas que existen; esto explica la creciente popularidad que ha tenido en los ultimos tiempos.\n",
        "\n",
        "A pesar de su simpleza, es muy utilizado tanto en la industria para servidores y servicios web, así como también en el área academica para redes neuronales, deep learning, simulación, etc.\n",
        "\n",
        "La comunidad de Python es una de las más grandes. Por lo tanto cualquier duda que tengan, a partir de ahora, Google es su amigo: pueden buscar la duda que tengan y seguramente alguien ya haya tenido ese problema. Una de los sitios web más conocidos para este fin es [StackOverflow](https://stackoverflow.com/)\n",
        "\n",
        "\n"
      ]
    },
    {
      "cell_type": "markdown",
      "metadata": {
        "id": "o7iXxeQFsblK"
      },
      "source": [
        "## Variables\n",
        "\n",
        "En programación, el concepto de variables es un espacio donde el programador o el programa puede almacenar información.\n",
        "\n",
        "En python esto se logra de la siguiente manera:\n",
        "\n",
        "\n"
      ]
    },
    {
      "cell_type": "code",
      "execution_count": null,
      "metadata": {
        "id": "dFdsoISPuvyX",
        "colab": {
          "base_uri": "https://localhost:8080/"
        },
        "outputId": "7143fd22-7ae6-4a0c-87f5-b03f44354242"
      },
      "outputs": [
        {
          "output_type": "stream",
          "name": "stdout",
          "text": [
            "5\n",
            "10\n",
            "7\n"
          ]
        }
      ],
      "source": [
        "x = 5\n",
        "print(x )\n",
        "print(1+9)\n",
        "print(2+5)"
      ]
    },
    {
      "cell_type": "markdown",
      "metadata": {
        "id": "d3b-updXAmho"
      },
      "source": [
        "En estas variables podemos guardar lo que sea necesario para ejecutar el programa, por ejemplo si necesitamos guardar texto se indica con: \"(texto)\" o '(texto)'."
      ]
    },
    {
      "cell_type": "code",
      "execution_count": null,
      "metadata": {
        "id": "ZaesnOreAx4q",
        "colab": {
          "base_uri": "https://localhost:8080/",
          "height": 36
        },
        "outputId": "4f53f840-1ea5-49ba-d7a9-50a0d614e4e3"
      },
      "outputs": [
        {
          "output_type": "execute_result",
          "data": {
            "text/plain": [
              "'IEEEXTREAM'"
            ],
            "application/vnd.google.colaboratory.intrinsic+json": {
              "type": "string"
            }
          },
          "metadata": {},
          "execution_count": 22
        }
      ],
      "source": [
        "x = 'IEEEXTREAM'\n",
        "y = \"mundo\"\n",
        "x"
      ]
    },
    {
      "cell_type": "markdown",
      "metadata": {
        "id": "yZl-KaXPCXru"
      },
      "source": [
        "## Input - Output\n",
        "El input de un programa es la manera de recibir información del entorno externo al programa. Esto puede ser un usuario, un archivo, otro programa, un sensor, etc.\n",
        "\n",
        "El output de un programa es la manera de transmitir información hacia el entorno externo. Por ejemplo, puede escribir en la consola de la computadora, puede generar una imagen, etc. En GoogleColaboratory veremos el output del programa debajo de la celda donde fue ejecutado.\n",
        "\n",
        "Para poder mostrar el contenido de una variable podemos utilizar **print**(variable):"
      ]
    },
    {
      "cell_type": "code",
      "execution_count": null,
      "metadata": {
        "id": "C1c66KXWCwpD",
        "colab": {
          "base_uri": "https://localhost:8080/"
        },
        "outputId": "b56c9fcc-b691-4d75-fc72-8f7e90ca82a0"
      },
      "outputs": [
        {
          "output_type": "stream",
          "name": "stdout",
          "text": [
            "Hola como estas\n"
          ]
        }
      ],
      "source": [
        "print(\"Hola como estas\")"
      ]
    },
    {
      "cell_type": "markdown",
      "metadata": {
        "id": "LaLS532qC2sr"
      },
      "source": [
        "¿Qué imprimirá el siguiente codigo?"
      ]
    },
    {
      "cell_type": "code",
      "execution_count": null,
      "metadata": {
        "id": "JECLPVC2C6XH",
        "colab": {
          "base_uri": "https://localhost:8080/"
        },
        "outputId": "7a85cf4c-2739-4a55-b6af-058f3e3ba2f6"
      },
      "outputs": [
        {
          "output_type": "stream",
          "name": "stdout",
          "text": [
            "IEEEXTREAM\n"
          ]
        }
      ],
      "source": [
        "print(x)"
      ]
    },
    {
      "cell_type": "markdown",
      "metadata": {
        "id": "pvDfQCPsC8xc"
      },
      "source": [
        "Para ingresar una variable podemos usar **input**(). Corran este código ustedes para que les de una pequeña casilla donde escribir, y luego el programa escribirá lo que ustedes ingresaron."
      ]
    },
    {
      "cell_type": "code",
      "execution_count": null,
      "metadata": {
        "id": "Iuzty4svDEDy",
        "colab": {
          "base_uri": "https://localhost:8080/"
        },
        "outputId": "b54b03a3-8c5c-4b60-845c-2a2ceec8931a"
      },
      "outputs": [
        {
          "output_type": "stream",
          "name": "stdout",
          "text": [
            "ro\n",
            "ro\n"
          ]
        }
      ],
      "source": [
        "x = input()\n",
        "print(x)"
      ]
    },
    {
      "cell_type": "markdown",
      "metadata": {
        "id": "uNa0exphDxse"
      },
      "source": [
        "## Operaciones básicas con variables\n",
        "\n",
        "\n"
      ]
    },
    {
      "cell_type": "markdown",
      "metadata": {
        "id": "ZM7lIDcRPdtk"
      },
      "source": [
        "### Operaciones de modificación\n",
        "No seria muy útil un programa si lo único que podemos hacer es guardar en una variable y mostrarla, por lo que podemos realizar algunas operaciones basicas que nos perimiten modificar el contenido:\n",
        "\n",
        "\n",
        "*   **+** : Sumar dos variables $a+b$\n",
        "*   **-**  : Restar dos variables $a-b$\n",
        "*   ** * ** : Multiplicar dos variables $a\\cdot b$\n",
        "*   ** / ** : Dividir una variable por la otra $\\frac{a}{b}$\n",
        "*   ** \\*\\* ** : Una variable elevado a la otra $a^{b}$\n",
        "*   **=** : Asignarle un valor a una variable $a \\leftarrow b$\n",
        "\n",
        "¿Cual será la salida del siguiente programa?"
      ]
    },
    {
      "cell_type": "code",
      "execution_count": null,
      "metadata": {
        "id": "LrkSFD2zFKo9",
        "colab": {
          "base_uri": "https://localhost:8080/"
        },
        "outputId": "9c720974-9974-46b6-c0b4-5f5d92428110"
      },
      "outputs": [
        {
          "output_type": "stream",
          "name": "stdout",
          "text": [
            "-6\n",
            "9\n"
          ]
        }
      ],
      "source": [
        "x = 3\n",
        "y = -2\n",
        "y = x*y\n",
        "x = x**2\n",
        "print(y)\n",
        "print(x)"
      ]
    },
    {
      "cell_type": "markdown",
      "metadata": {
        "id": "sHe-S2KcF_hT"
      },
      "source": [
        "Python nos permite ahorrar código combinando el operando **=** con alguno de los anteriormente vistos:\n",
        "\n",
        "\n",
        "*   ** *= ** : Multiplica la variable $a \\leftarrow a\\cdot b$\n",
        "*   ** /= ** : Divide la variable  $a \\leftarrow \\frac{a}{b}$\n",
        "*   ** += ** : Suma a la varaible  $a \\leftarrow a+ b$\n",
        "*   ** -= ** : Resta a la variable $a \\leftarrow a- b$\n",
        "\n",
        "¿Cual será la salida del siguiente codigo?"
      ]
    },
    {
      "cell_type": "code",
      "execution_count": null,
      "metadata": {
        "id": "ndLR4DOcHIOb"
      },
      "outputs": [],
      "source": [
        "x/=10\n",
        "\n",
        "print(x)"
      ]
    },
    {
      "cell_type": "markdown",
      "metadata": {
        "id": "78iBTQVNISi7"
      },
      "source": [
        "### Operaciones de comparación\n",
        "Existen operaciones donde se comparan las propiedades de una variable.\n",
        "*    **< ** : Menor que $a < b$\n",
        "*    **> ** : Mayor que $a > b$\n",
        "*   **<=** : Menor o igual que $a \\leq b$\n",
        "*   **>=** : Mayor o igual que $a \\geq b$\n",
        "*   **==** : Es igual $a = b$\n",
        "\n",
        "Al comprarar dos números se obtiene True o False según si se cumple la condición:"
      ]
    },
    {
      "cell_type": "code",
      "execution_count": null,
      "metadata": {
        "id": "xlYwcqQrOy5I",
        "colab": {
          "base_uri": "https://localhost:8080/"
        },
        "outputId": "649da6b3-117f-46ba-ed87-2fc5ceaecbfb"
      },
      "outputs": [
        {
          "output_type": "stream",
          "name": "stdout",
          "text": [
            "False\n",
            "True\n"
          ]
        }
      ],
      "source": [
        "x = 1\n",
        "print(x>=4)\n",
        "print(x<3)"
      ]
    },
    {
      "cell_type": "markdown",
      "metadata": {
        "id": "julg_kMLTzCT"
      },
      "source": [
        "También podemos comparar muchas condiciones utilzando:\n",
        "*  **and**: Si se cumplen las dos condicones $a \\land b$\n",
        "*  **or**: Si se cumple alguna de las condicions $ a \\lor b$\n",
        "*  **not**: Si no se cumple esa condición $ \\overline{a} $\n",
        "\n",
        "Veamos un ejemplo:"
      ]
    },
    {
      "cell_type": "code",
      "execution_count": null,
      "metadata": {
        "id": "uGxeHWppUKLP",
        "colab": {
          "base_uri": "https://localhost:8080/"
        },
        "outputId": "ca360228-2896-4216-c44d-c9d2582a242b"
      },
      "outputs": [
        {
          "output_type": "stream",
          "name": "stdout",
          "text": [
            "False\n",
            "True\n",
            "False\n"
          ]
        }
      ],
      "source": [
        "x = 4\n",
        "y = x>5 and x < 7\n",
        "z = x>5 or x <7\n",
        "k = not x>3\n",
        "print(y)\n",
        "print(z)\n",
        "print(k)"
      ]
    },
    {
      "cell_type": "markdown",
      "metadata": {
        "id": "2cJd7NrKV9dK"
      },
      "source": [
        "Estas condiciones pueden agruparse con ( condicion1 ) **and/or** ( condicion2 ), esto permite chequar condiciones complejas:"
      ]
    },
    {
      "cell_type": "code",
      "execution_count": null,
      "metadata": {
        "id": "4LYKsyiXLAWW",
        "colab": {
          "base_uri": "https://localhost:8080/"
        },
        "outputId": "a6afcc3a-b25f-4c19-ff81-6d7ff985c6da"
      },
      "outputs": [
        {
          "output_type": "stream",
          "name": "stdout",
          "text": [
            "True\n"
          ]
        }
      ],
      "source": [
        "x = 10\n",
        "y = 5\n",
        "z = (y > x and 15 > x) or (y < x and 15 > x)\n",
        "print(z)"
      ]
    },
    {
      "cell_type": "markdown",
      "metadata": {
        "id": "KGPMKjbABDrz"
      },
      "source": [
        "## Flujo de Programa\n",
        "Los programas siguen un \"flujo\" definido por el programador. Esto le permite realizar operaciones complejas. Notar que todas estas estructuras terminan con un ** : **, y la siguiente línea tiene un tab de indentación.\n",
        "\n",
        "\n",
        "###   Estructura if\n",
        "Es la estructura básica que le permite al programador ver si se cumple una condición, y realizar distintas acciones según si eso sucede o no.\n",
        "\n",
        "**if** (condicion):\n",
        "    \n",
        "    ... lo que se hace si se cumple la condición\n",
        "    \n",
        "**elif** (condicion2):\n",
        "\n",
        "    ... lo que se hace si se cumple la condicion2\n",
        "     \n",
        "**else**:\n",
        "\n",
        "    ... lo que se hace si no se cumple la condición\n",
        "    \n",
        "    \n",
        " Siempre se comienza con **if**, después puede haber cualquier cantidad de **elif** (o ninguno). y luego se puede terminar con **else** (o no). Luego del **else** no puede haber más **elif**.\n",
        "\n",
        "\n",
        "\n"
      ]
    },
    {
      "cell_type": "markdown",
      "metadata": {
        "id": "rqyrcoqnPmi3"
      },
      "source": [
        "¿Cual será la salida del siguiente programa?"
      ]
    },
    {
      "cell_type": "code",
      "execution_count": null,
      "metadata": {
        "id": "Y9oaFC5vCFB7",
        "colab": {
          "base_uri": "https://localhost:8080/"
        },
        "outputId": "7710de9b-d8e1-4d07-d4e9-805c61730119"
      },
      "outputs": [
        {
          "output_type": "stream",
          "name": "stdout",
          "text": [
            "6\n"
          ]
        }
      ],
      "source": [
        "x = 5\n",
        "y = 6\n",
        "if x==y:\n",
        "    print(x)\n",
        "elif y<5 or y>7:\n",
        "    print(x+y)\n",
        "else:\n",
        "    print(y)"
      ]
    },
    {
      "cell_type": "code",
      "execution_count": null,
      "metadata": {
        "id": "ejJfMzOtQL00",
        "colab": {
          "base_uri": "https://localhost:8080/"
        },
        "outputId": "8f19e847-ddae-4e32-cea6-62a68e424dc3"
      },
      "outputs": [
        {
          "output_type": "stream",
          "name": "stdout",
          "text": [
            "adivinamos el valor de y!\n",
            "no adivinamos el valor de x ))):\n",
            "y es menor que x\n"
          ]
        }
      ],
      "source": [
        "x = -1\n",
        "y = 4\n",
        "\n",
        "if y == 4:\n",
        "    print(\"adivinamos el valor de y!\")\n",
        "\n",
        "if x == 5:\n",
        "    print(\"adivinamos el valor de x!\")\n",
        "else:\n",
        "    print(\"no adivinamos el valor de x ))):\")\n",
        "\n",
        "if x > y:\n",
        "    print(\"x es mayor que y\")\n",
        "elif x < y:\n",
        "    print(\"y es menor que x\")\n",
        "elif x == y:\n",
        "    print(\"x e y son iguales\")\n",
        "else:\n",
        "    print(\"que?????\")"
      ]
    },
    {
      "cell_type": "markdown",
      "metadata": {
        "id": "J0shbiwuHYah"
      },
      "source": [
        "\n",
        "\n",
        "###  Estructura while\n",
        "Permite ejecutar operaciones mientras se cumpla una condición.\n",
        "\n",
        "**while** (Condicion):\n",
        "\n",
        "    ... lo que se hace mientras se cumpla la condicion\n",
        "\n",
        "**else** :\n",
        "\n",
        "    ... Se ejecuta cuando la condicion no se cumple más\n",
        "    \n",
        "Esto introduce otra estructura basica de un programa que son los ciclos (loops o bucles). En código se ve de la siguiente manera:\n",
        "\n"
      ]
    },
    {
      "cell_type": "code",
      "execution_count": null,
      "metadata": {
        "id": "LLcZ4LH3CMUt"
      },
      "outputs": [],
      "source": [
        "x = 1\n",
        "while x<10:\n",
        "    print(x)\n",
        "    x+=1\n",
        "else:\n",
        "    print(\"Termine el while!\")"
      ]
    },
    {
      "cell_type": "markdown",
      "metadata": {
        "id": "tzu1YFDNQTQu"
      },
      "source": [
        "Es importante tener en cuenta que la condición se evalúa sólo al principio del loop.\n",
        "\n",
        "¿Qué imprimirá este programa?"
      ]
    },
    {
      "cell_type": "code",
      "execution_count": null,
      "metadata": {
        "id": "GGIT1bOlQlw_"
      },
      "outputs": [],
      "source": [
        "x = 1\n",
        "while x<=3:\n",
        "    x += 1\n",
        "    print(x)"
      ]
    },
    {
      "cell_type": "markdown",
      "metadata": {
        "id": "KHHwPfH3QZQO"
      },
      "source": [
        "#### Ejercicio If y While\n",
        "Implementa un programa que muestre la siguiente secuencia:\n",
        "\n",
        "1,2,3,4,5,4,3,2,1,0\n",
        "\n",
        "Pueden utilizar un while y un if\n",
        "\n",
        "\n"
      ]
    },
    {
      "cell_type": "code",
      "execution_count": null,
      "metadata": {
        "id": "ELNQM61IIni8"
      },
      "outputs": [],
      "source": []
    },
    {
      "cell_type": "markdown",
      "metadata": {
        "id": "T-KOiUHbLcde"
      },
      "source": [
        "### Estructura for\n",
        "La estructura del **for** permite realizar una serie de acciones con una variable, que cambia su valor en cada repetición (iteración). ¿Qué significa esto? Permite realizar la misma\n",
        "\n",
        "**for** (variable) **in** (conjunto de variables):\n",
        "\n",
        "    ... Lo que quieras hacer con tu variable\n",
        "\n",
        "Veámoslo en un ejemplo de codigo:\n"
      ]
    },
    {
      "cell_type": "code",
      "execution_count": null,
      "metadata": {
        "id": "Cwo3zZy5I3x_"
      },
      "outputs": [],
      "source": [
        "for x in range(0,10,1):\n",
        "    print(x)"
      ]
    },
    {
      "cell_type": "markdown",
      "metadata": {
        "id": "VujdlKBZMfE3"
      },
      "source": [
        "**range**(a,b,d)  nos genera los valores desde a hasta b con incrementos de d, por ejemplo el siguiente codigo generara los numeros pares entre 0 y 10:\n",
        "\n"
      ]
    },
    {
      "cell_type": "code",
      "execution_count": null,
      "metadata": {
        "id": "XCHNbgvEMdIb"
      },
      "outputs": [],
      "source": [
        "for x in range(0,10,2):\n",
        "    print(x)"
      ]
    },
    {
      "cell_type": "markdown",
      "metadata": {
        "id": "UoNf8Ce-NAi5"
      },
      "source": [
        "#### Ejercicio for\n",
        "Realizar la siguiente secuencia de datos utilizando un for y un if\n",
        "\n",
        "0,1,4,9,4,5,6"
      ]
    },
    {
      "cell_type": "code",
      "execution_count": null,
      "metadata": {
        "id": "E3NctxBaM3kG"
      },
      "outputs": [],
      "source": []
    },
    {
      "cell_type": "markdown",
      "metadata": {
        "id": "0oG-SkG7PIcN"
      },
      "source": [
        "## Funciones\n",
        "Podemos pensar que una funcion es como un pequeño programa dentro del programa. Las funciones son bloques que nos permiten acortar el código no repitiendo estructuras que necesitamos utilizar mucho. Al igual que los programas las funciones tienen un input y un output: el input son las variables de entrada y su output es el valor o valores que devuelven.\n",
        "\n",
        "**def** miFunción($a_i,b_i,c_i,...$)**:**\n",
        "\n",
        "     ... Hago lo que necesite con las variables a,b,c\n",
        "    \n",
        "   **return** $a_o,b_o,c_o,...$\n",
        "\n",
        "Veamos un ejemplo:"
      ]
    },
    {
      "cell_type": "code",
      "execution_count": null,
      "metadata": {
        "id": "mpsgG39DNcme"
      },
      "outputs": [],
      "source": [
        "def suma(a,b):\n",
        "    s=a+b\n",
        "    return s\n",
        "\n",
        "x = 2\n",
        "y = 4\n",
        "print(suma(x,y))"
      ]
    },
    {
      "cell_type": "markdown",
      "metadata": {
        "id": "q5WyWK1KQVor"
      },
      "source": [
        "Esto tambien podemos combinarlo con las estructuras que vimos previamente"
      ]
    },
    {
      "cell_type": "code",
      "execution_count": null,
      "metadata": {
        "id": "_xMxxM6EQQon"
      },
      "outputs": [],
      "source": [
        "def chequarContraseña(c):\n",
        "    if c == \"Secreto\":\n",
        "        print(\"Contraseña correcta!\")\n",
        "    else:\n",
        "        print(\"Contraseña incorrecta!\")\n",
        "\n",
        "chequarContraseña(\"hola\")\n",
        "chequarContraseña(\"Secreto\")"
      ]
    },
    {
      "cell_type": "markdown",
      "metadata": {
        "id": "W64FPKi5RaU3"
      },
      "source": [
        "¿Se dieron cuenta que la la forma en la que usamos para imprimir una variable es una función?, **print**( ... ) lo que hace es llamar a una función ya creada que está en el estandar de python y permite que mostremos el contendido que se le pase como parametro a la función."
      ]
    },
    {
      "cell_type": "markdown",
      "metadata": {
        "id": "sgCdpQfDS5wG"
      },
      "source": [
        "### Ejercicio funciones\n",
        "Escribir una función que cheque los siguientes usuarios y contraseñas:\n",
        "*  Usuario: Juan  -  Contraseña: 12345_\n",
        "*  Usuario: Pablo - Contraseña: xDcFvGbHn"
      ]
    },
    {
      "cell_type": "code",
      "execution_count": null,
      "metadata": {
        "id": "cqBdQ2P-RPU6"
      },
      "outputs": [],
      "source": []
    },
    {
      "cell_type": "markdown",
      "metadata": {
        "id": "13AcDcKZWX0b"
      },
      "source": [
        "## Ejercitación integradora $\\newcommand{\\dif}{\\bigstar}$$\\newcommand{\\facil}{\\color{\\green}{\\dif}}$ $\\newcommand{\\pieceofcake}{\\color{\\cyan}{\\dif}}$$\\newcommand{\\medio}{\\color{\\yellow}{\\dif\\dif}}$$\\newcommand{\\media}{\\medio}$$\\newcommand{\\normal}{\\medio}$  $\\newcommand{\\dificil}{\\color{\\orange}{\\dif\\dif\\dif}}$ $\\newcommand{\\imposible}{\\color{\\red}{\\dif\\dif\\dif\\dif}}$"
      ]
    },
    {
      "cell_type": "markdown",
      "metadata": {
        "id": "ZJ8oR4DW3z4A"
      },
      "source": [
        "###$\\facil$   Cálculo de promedio\n",
        "Cálcular la nota de un alumno es una tarea cotidiana de un profesor. Esta tarea suele realizarse a mano o en excel muchas veces. En esta ocasión la haremos en python.\n",
        "- Escribir una función que calcule el promedio de 3 notas.\n",
        "- Escribir una función que calcule el promedio de 3 notas con ponderación (asignar de importancia al primer examen 20% al segundo 50% y al tercero 30%)\n",
        "- Llamar a la función anterior 3 veces con distintas notas y verificar, mediante la instrucción if, si el alumno aprobó (suponga que 4 es la nota de aprobación). en cada caso.\n",
        "\n"
      ]
    },
    {
      "cell_type": "code",
      "execution_count": null,
      "metadata": {
        "id": "3DHirONd90wp"
      },
      "outputs": [],
      "source": []
    },
    {
      "cell_type": "markdown",
      "metadata": {
        "id": "_QLEV2dP64fo"
      },
      "source": [
        "###$\\facil$  Dominó  \n",
        "\n",
        "El [Dominó](https://es.wikipedia.org/wiki/Domin%C3%B3) es un juego de mesa muy popular.\n",
        "En este ejercicio no vamos a programar un juego de Domino, pero sí contar sus fichas.\n",
        "\n",
        "<img src=\"https://es.calcuworld.com/wp-content/uploads/sites/2/2018/04/cantidad-de-fichas-domino.jpg\" height=\"200\" alt = \"Fichas domino desparramadas sobre una mesa\">\n",
        "\n",
        "A pesar de que el domino tradicional se juega con fichas hasta el número 6, vamos a considerar un juego de fichas de valor máximo $n$.\n",
        "\n",
        "- Escribir una función que calcule la cantidad de fichas para un juego de dominó completo con fichas que contienen hasta el número $n$.\n",
        "Nota: ¡No hay fichas repetidas! 2-4 es la misma ficha que 4-2.\n",
        "\n",
        "```\n",
        "   cantidadFichas(4)\n",
        "   >>> 6\n",
        "```\n",
        "\n",
        "- Escribir una función que muestre todas las fichas para un juego de dominó como el anterior, en cualquier orden.\n",
        "\n",
        "```\n",
        "   mostrarFichas(3)\n",
        "   >>> 1-1\n",
        "   >>> 1-2\n",
        "   >>> 1-3\n",
        "   >>> 2-2\n",
        "   >>> 2-3\n",
        "   >>> 3-3\n",
        "```\n",
        "\n",
        "- Llamar a las funciones anteriores con distintos valores para corroborar su funcionamiento\n",
        "\n",
        "- Challenge: Escribir una función que, dada una cantidad de fichas, calcule cuál es el $n$ (valor máximo) de las fichas. Si la cantidad no corresponde a ningún juego de dominó completo retornar -1.\n",
        "\n",
        "```\n",
        "   valorMaximo(21)\n",
        "   >>> 7\n",
        "```\n"
      ]
    },
    {
      "cell_type": "code",
      "execution_count": null,
      "metadata": {
        "id": "Mu1GbWGC-IW9"
      },
      "outputs": [],
      "source": []
    },
    {
      "cell_type": "markdown",
      "metadata": {
        "id": "fm_1Ogs_k0Uu"
      },
      "source": [
        "### $\\normal$ La leyenda de Filius Bonacci  \n",
        "> Indented block\n",
        "\n",
        "\n",
        "\n",
        "\n",
        "<img src=\"https://childsci.org/wp-content/uploads/2016/04/Fibonacci-Sequence.jpg\" height=\"200\" alt = \"Espiral Fibonacci\" title = \"\">\n",
        "\n",
        "Imprima $n$ números de la [sucesion de Fibonacci](https://es.wikipedia.org/wiki/Sucesi%C3%B3n_de_Fibonacci)\n",
        "\n",
        "\n",
        "```\n",
        "0, 1, 1, 2, 3, 5, 8, 13, 21 ...\n",
        "```"
      ]
    },
    {
      "cell_type": "code",
      "execution_count": null,
      "metadata": {
        "id": "Am1NHiy6xeMp"
      },
      "outputs": [],
      "source": []
    },
    {
      "cell_type": "markdown",
      "metadata": {
        "id": "tS0MU0yrKfAs"
      },
      "source": [
        "###$\\dificil$ Ejercicio de entrevista en Ingemática\n",
        "Escriba un programa que imprima los números del 1 al 100, pero que para cada número que sea múltiplo de 3 imprima  `N3`, para los múltiplos de 5 imprima `N5`, y para los múltiplos de los dos, `N3N5`.\n",
        "\n",
        "**Tips**\n",
        "* ¡Si el número es divisible por 3 entonces el resto de la división vale cero!\n",
        "```\n",
        "numero % 3 == 0\n",
        ">> True\n",
        "```\n"
      ]
    },
    {
      "cell_type": "code",
      "execution_count": null,
      "metadata": {
        "id": "IUtY_MurVkMl"
      },
      "outputs": [],
      "source": []
    },
    {
      "cell_type": "markdown",
      "metadata": {
        "id": "QkV_WCR4HUA5"
      },
      "source": [
        "###$\\medio$ Locos por las matemáticas\n",
        "En marzo 2019, Emma Haruka Iwao, una empleada de Google, logró calcular 31,4 trillones de dígitos del famoso número pi en 121 dias usando el poder de la nube de Google. ¡Hoy ustedes pueden hacer lo mismo con la ayuda de Python!\n",
        "\n",
        "Aprovechando el descubrimiento del matemático indio Sriniviasa Ramanujan (1910) podemos emplear nuestro propio aproximador de pi.\n",
        "$$ \\frac{1}{\\pi}= \\frac{2\\sqrt{2}}{9801}\\sum_{k=0}^{\\infty} \\frac{(4k)! \\cdot (1103+26390k)}{(k!)^4 396^{4k}}$$\n",
        "\n",
        "Tengan en cuenta la proxima función para calcular factoriales:\n",
        "\n",
        "```\n",
        "def factorial(n):\n",
        "  if n<=1:\n",
        "    return 1\n",
        "  else:\n",
        "    return n*factorial(n-1)\n",
        "```\n",
        "$$\\textrm{factorial(4)}=4!=24 $$\n",
        "\n",
        "Si no estamos tan locos por la matemáticas podemos usar otras aproximaciones más simples como\n",
        "\n",
        "$$\\pi \\approx \\frac{22}{7} \\approx \\frac{355}{113} $$\n",
        "\n",
        "Otros números famosos:\n",
        "$$e = \\sum_{k=0}^\\infty \\frac{1}{k!} \\qquad e=\\lim_{x\\rightarrow\\infty} \\left( 1+\\frac{1}{x} \\right)^x \\qquad \\varphi = \\frac{1+\\sqrt{5}}{2} $$"
      ]
    },
    {
      "cell_type": "code",
      "execution_count": null,
      "metadata": {
        "id": "F8WOsa0XLAKx"
      },
      "outputs": [],
      "source": []
    }
  ],
  "metadata": {
    "colab": {
      "provenance": [],
      "include_colab_link": true
    },
    "kernelspec": {
      "display_name": "Python 3",
      "language": "python",
      "name": "python3"
    },
    "language_info": {
      "codemirror_mode": {
        "name": "ipython",
        "version": 3
      },
      "file_extension": ".py",
      "mimetype": "text/x-python",
      "name": "python",
      "nbconvert_exporter": "python",
      "pygments_lexer": "ipython3",
      "version": "3.7.2"
    }
  },
  "nbformat": 4,
  "nbformat_minor": 0
}